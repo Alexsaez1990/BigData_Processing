{
 "cells": [
  {
   "cell_type": "code",
   "execution_count": 1,
   "id": "9877b1b2",
   "metadata": {},
   "outputs": [],
   "source": [
    "import findspark\n",
    "findspark.init()\n",
    "from pyspark.sql import SparkSession\n",
    "from pyspark.sql.functions import *\n",
    "from pyspark.sql.functions import broadcast\n",
    "from pyspark.sql.types import *"
   ]
  },
  {
   "cell_type": "code",
   "execution_count": 2,
   "id": "a374ae0a",
   "metadata": {},
   "outputs": [],
   "source": [
    "spark = SparkSession.builder.getOrCreate()"
   ]
  },
  {
   "cell_type": "code",
   "execution_count": 128,
   "id": "2aecfffc",
   "metadata": {},
   "outputs": [
    {
     "name": "stdout",
     "output_type": "stream",
     "text": [
      "+------------+----+-----------+------------------+--------------+--------------------------------+----------------------------+----------+-------------------------+---------------+---------------+\n",
      "|Country name|year|Life Ladder|Log GDP per capita|Social support|Healthy life expectancy at birth|Freedom to make life choices|Generosity|Perceptions of corruption|Positive affect|Negative affect|\n",
      "+------------+----+-----------+------------------+--------------+--------------------------------+----------------------------+----------+-------------------------+---------------+---------------+\n",
      "| Afghanistan|2008|      3.724|              7.37|         0.451|                            50.8|                       0.718|     0.168|                    0.882|          0.518|          0.258|\n",
      "| Afghanistan|2009|      4.402|              7.54|         0.552|                            51.2|                       0.679|      0.19|                     0.85|          0.584|          0.237|\n",
      "| Afghanistan|2010|      4.758|             7.647|         0.539|                            51.6|                         0.6|     0.121|                    0.707|          0.618|          0.275|\n",
      "| Afghanistan|2011|      3.832|              7.62|         0.521|                           51.92|                       0.496|     0.162|                    0.731|          0.611|          0.267|\n",
      "| Afghanistan|2012|      3.783|             7.705|         0.521|                           52.24|                       0.531|     0.236|                    0.776|           0.71|          0.268|\n",
      "| Afghanistan|2013|      3.572|             7.725|         0.484|                           52.56|                       0.578|     0.061|                    0.823|          0.621|          0.273|\n",
      "| Afghanistan|2014|      3.131|             7.718|         0.526|                           52.88|                       0.509|     0.104|                    0.871|          0.532|          0.375|\n",
      "| Afghanistan|2015|      3.983|             7.702|         0.529|                            53.2|                       0.389|      0.08|                    0.881|          0.554|          0.339|\n",
      "| Afghanistan|2016|       4.22|             7.697|         0.559|                            53.0|                       0.523|     0.042|                    0.793|          0.565|          0.348|\n",
      "| Afghanistan|2017|      2.662|             7.697|         0.491|                            52.8|                       0.427|    -0.121|                    0.954|          0.496|          0.371|\n",
      "| Afghanistan|2018|      2.694|             7.692|         0.508|                            52.6|                       0.374|    -0.094|                    0.928|          0.424|          0.405|\n",
      "| Afghanistan|2019|      2.375|             7.697|          0.42|                            52.4|                       0.394|    -0.108|                    0.924|          0.351|          0.502|\n",
      "|     Albania|2007|      4.634|             9.142|         0.821|                            65.8|                       0.529|    -0.009|                    0.875|          0.553|          0.246|\n",
      "|     Albania|2009|      5.485|             9.262|         0.833|                            66.2|                       0.525|    -0.158|                    0.864|           0.64|          0.279|\n",
      "|     Albania|2010|      5.269|             9.303|         0.733|                            66.4|                       0.569|    -0.172|                    0.726|          0.648|            0.3|\n",
      "|     Albania|2011|      5.867|             9.331|         0.759|                           66.68|                       0.487|    -0.205|                    0.877|          0.628|          0.257|\n",
      "|     Albania|2012|       5.51|             9.347|         0.785|                           66.96|                       0.602|    -0.169|                    0.848|          0.607|          0.271|\n",
      "|     Albania|2013|      4.551|             9.359|         0.759|                           67.24|                       0.632|    -0.127|                    0.863|          0.634|          0.338|\n",
      "|     Albania|2014|      4.814|             9.378|         0.626|                           67.52|                       0.735|    -0.025|                    0.883|          0.685|          0.335|\n",
      "|     Albania|2015|      4.607|             9.403|         0.639|                            67.8|                       0.704|    -0.081|                    0.885|          0.688|           0.35|\n",
      "+------------+----+-----------+------------------+--------------+--------------------------------+----------------------------+----------+-------------------------+---------------+---------------+\n",
      "only showing top 20 rows\n",
      "\n",
      "root\n",
      " |-- Country name: string (nullable = true)\n",
      " |-- year: integer (nullable = true)\n",
      " |-- Life Ladder: float (nullable = true)\n",
      " |-- Log GDP per capita: float (nullable = true)\n",
      " |-- Social support: float (nullable = true)\n",
      " |-- Healthy life expectancy at birth: float (nullable = true)\n",
      " |-- Freedom to make life choices: float (nullable = true)\n",
      " |-- Generosity: float (nullable = true)\n",
      " |-- Perceptions of corruption: float (nullable = true)\n",
      " |-- Positive affect: float (nullable = true)\n",
      " |-- Negative affect: float (nullable = true)\n",
      "\n",
      "+--------------+--------------------+------------+------------------------------+------------+------------+---------------------+--------------+-----------------------+----------------------------+----------+-------------------------+------------------------+--------------------------------+----------------------------+-------------------------------------+------------------------------------------+------------------------+---------------------------------------+-------------------+\n",
      "|  Country name|  Regional indicator|Ladder score|Standard error of ladder score|upperwhisker|lowerwhisker|Logged GDP per capita|Social support|Healthy life expectancy|Freedom to make life choices|Generosity|Perceptions of corruption|Ladder score in Dystopia|Explained by: Log GDP per capita|Explained by: Social support|Explained by: Healthy life expectancy|Explained by: Freedom to make life choices|Explained by: Generosity|Explained by: Perceptions of corruption|Dystopia + residual|\n",
      "+--------------+--------------------+------------+------------------------------+------------+------------+---------------------+--------------+-----------------------+----------------------------+----------+-------------------------+------------------------+--------------------------------+----------------------------+-------------------------------------+------------------------------------------+------------------------+---------------------------------------+-------------------+\n",
      "|       Finland|      Western Europe|       7.842|                         0.032|       7.904|        7.78|               10.775|         0.954|                   72.0|                       0.949|    -0.098|                    0.186|                    2.43|                           1.446|                       1.106|                                0.741|                                     0.691|                   0.124|                                  0.481|              3.253|\n",
      "|       Denmark|      Western Europe|        7.62|                         0.035|       7.687|       7.552|               10.933|         0.954|                   72.7|                       0.946|      0.03|                    0.179|                    2.43|                           1.502|                       1.108|                                0.763|                                     0.686|                   0.208|                                  0.485|              2.868|\n",
      "|   Switzerland|      Western Europe|       7.571|                         0.036|       7.643|         7.5|               11.117|         0.942|                   74.4|                       0.919|     0.025|                    0.292|                    2.43|                           1.566|                       1.079|                                0.816|                                     0.653|                   0.204|                                  0.413|              2.839|\n",
      "|       Iceland|      Western Europe|       7.554|                         0.059|        7.67|       7.438|               10.878|         0.983|                   73.0|                       0.955|      0.16|                    0.673|                    2.43|                           1.482|                       1.172|                                0.772|                                     0.698|                   0.293|                                   0.17|              2.967|\n",
      "|   Netherlands|      Western Europe|       7.464|                         0.027|       7.518|        7.41|               10.932|         0.942|                   72.4|                       0.913|     0.175|                    0.338|                    2.43|                           1.501|                       1.079|                                0.753|                                     0.647|                   0.302|                                  0.384|              2.798|\n",
      "|        Norway|      Western Europe|       7.392|                         0.035|       7.462|       7.323|               11.053|         0.954|                   73.3|                        0.96|     0.093|                     0.27|                    2.43|                           1.543|                       1.108|                                0.782|                                     0.703|                   0.249|                                  0.427|               2.58|\n",
      "|        Sweden|      Western Europe|       7.363|                         0.036|       7.433|       7.293|               10.867|         0.934|                   72.7|                       0.945|     0.086|                    0.237|                    2.43|                           1.478|                       1.062|                                0.763|                                     0.685|                   0.244|                                  0.448|              2.683|\n",
      "|    Luxembourg|      Western Europe|       7.324|                         0.037|       7.396|       7.252|               11.647|         0.908|                   72.6|                       0.907|    -0.034|                    0.386|                    2.43|                           1.751|                       1.003|                                 0.76|                                     0.639|                   0.166|                                  0.353|              2.653|\n",
      "|   New Zealand|North America and...|       7.277|                          0.04|       7.355|       7.198|               10.643|         0.948|                   73.4|                       0.929|     0.134|                    0.242|                    2.43|                             1.4|                       1.094|                                0.785|                                     0.665|                   0.276|                                  0.445|              2.612|\n",
      "|       Austria|      Western Europe|       7.268|                         0.036|       7.337|       7.198|               10.906|         0.934|                   73.3|                       0.908|     0.042|                    0.481|                    2.43|                           1.492|                       1.062|                                0.782|                                      0.64|                   0.215|                                  0.292|              2.784|\n",
      "|     Australia|North America and...|       7.183|                         0.041|       7.265|       7.102|               10.796|          0.94|                   73.9|                       0.914|     0.159|                    0.442|                    2.43|                           1.453|                       1.076|                                0.801|                                     0.647|                   0.291|                                  0.317|              2.598|\n",
      "|        Israel|Middle East and N...|       7.157|                         0.034|       7.224|        7.09|               10.575|         0.939|                 73.503|                         0.8|     0.031|                    0.753|                    2.43|                           1.376|                       1.074|                                0.788|                                     0.509|                   0.208|                                  0.119|              3.083|\n",
      "|       Germany|      Western Europe|       7.155|                          0.04|       7.232|       7.077|               10.873|         0.903|                   72.5|                       0.875|     0.011|                     0.46|                    2.43|                            1.48|                       0.993|                                0.757|                                       0.6|                   0.195|                                  0.306|              2.824|\n",
      "|        Canada|North America and...|       7.103|                         0.042|       7.185|       7.021|               10.776|         0.926|                   73.8|                       0.915|     0.089|                    0.415|                    2.43|                           1.447|                       1.044|                                0.798|                                     0.648|                   0.246|                                  0.335|              2.585|\n",
      "|       Ireland|      Western Europe|       7.085|                          0.04|       7.164|       7.006|               11.342|         0.947|                   72.4|                       0.879|     0.077|                    0.363|                    2.43|                           1.644|                       1.092|                                0.753|                                     0.606|                   0.238|                                  0.367|              2.384|\n",
      "|    Costa Rica|Latin America and...|       7.069|                         0.056|       7.179|        6.96|                 9.88|         0.891|                   71.4|                       0.934|    -0.126|                    0.809|                    2.43|                           1.134|                       0.966|                                0.722|                                     0.673|                   0.105|                                  0.083|              3.387|\n",
      "|United Kingdom|      Western Europe|       7.064|                         0.038|       7.138|        6.99|               10.707|         0.934|                   72.5|                       0.859|     0.233|                    0.459|                    2.43|                           1.423|                       1.062|                                0.757|                                      0.58|                    0.34|                                  0.306|              2.596|\n",
      "|Czech Republic|Central and Easte...|       6.965|                         0.049|       7.062|       6.868|               10.556|         0.947|                 70.807|                       0.858|    -0.208|                    0.868|                    2.43|                            1.37|                        1.09|                                0.703|                                      0.58|                   0.052|                                  0.046|              3.124|\n",
      "| United States|North America and...|       6.951|                         0.049|       7.047|       6.856|               11.023|          0.92|                   68.2|                       0.837|     0.098|                    0.698|                    2.43|                           1.533|                        1.03|                                0.621|                                     0.554|                   0.252|                                  0.154|              2.807|\n",
      "|       Belgium|      Western Europe|       6.834|                         0.034|       6.901|       6.767|               10.823|         0.906|                 72.199|                       0.783|    -0.153|                    0.646|                    2.43|                           1.463|                       0.998|                                0.747|                                     0.489|                   0.088|                                  0.187|              2.862|\n",
      "+--------------+--------------------+------------+------------------------------+------------+------------+---------------------+--------------+-----------------------+----------------------------+----------+-------------------------+------------------------+--------------------------------+----------------------------+-------------------------------------+------------------------------------------+------------------------+---------------------------------------+-------------------+\n",
      "only showing top 20 rows\n",
      "\n",
      "root\n",
      " |-- Country name: string (nullable = true)\n",
      " |-- Regional indicator: string (nullable = true)\n",
      " |-- Ladder score: float (nullable = true)\n",
      " |-- Standard error of ladder score: float (nullable = true)\n",
      " |-- upperwhisker: float (nullable = true)\n",
      " |-- lowerwhisker: float (nullable = true)\n",
      " |-- Logged GDP per capita: float (nullable = true)\n",
      " |-- Social support: float (nullable = true)\n",
      " |-- Healthy life expectancy: float (nullable = true)\n",
      " |-- Freedom to make life choices: float (nullable = true)\n",
      " |-- Generosity: float (nullable = true)\n",
      " |-- Perceptions of corruption: float (nullable = true)\n",
      " |-- Ladder score in Dystopia: float (nullable = true)\n",
      " |-- Explained by: Log GDP per capita: float (nullable = true)\n",
      " |-- Explained by: Social support: float (nullable = true)\n",
      " |-- Explained by: Healthy life expectancy: float (nullable = true)\n",
      " |-- Explained by: Freedom to make life choices: float (nullable = true)\n",
      " |-- Explained by: Generosity: float (nullable = true)\n",
      " |-- Explained by: Perceptions of corruption: float (nullable = true)\n",
      " |-- Dystopia + residual: float (nullable = true)\n",
      "\n"
     ]
    }
   ],
   "source": [
    "df_hpns = spark.read.option(\"header\", \"true\").csv(\"C:/Users/Conaf/Documents/BootCamp/BigData-Processing/big-data-processing/Proyecto-Final/Datasets/world-happiness-report.csv\")\n",
    "df_21 = spark.read.option(\"header\", \"true\").csv(\"C:/Users/Conaf/Documents/BootCamp/BigData-Processing/big-data-processing/Proyecto-Final/Datasets/world-happiness-report-2021.csv\")\n",
    "\n",
    "df_hpns.printSchema()\n",
    "df_21.printSchema()\n",
    "\n",
    "df_hpns = df_hpns.withColumn(\"year\", col(\"year\").cast(\"int\"))\n",
    "df_hpns = df_hpns.withColumn(\"Life Ladder\", col(\"Life Ladder\").cast(\"float\"))\n",
    "df_hpns = df_hpns.withColumn(\"Log GDP per capita\", col(\"Log GDP per capita\").cast(\"float\"))\n",
    "df_hpns = df_hpns.withColumn(\"Social support\", col(\"Social support\").cast(\"float\"))\n",
    "df_hpns = df_hpns.withColumn(\"Healthy life expectancy at birth\", col(\"Healthy life expectancy at birth\").cast(\"float\"))\n",
    "df_hpns = df_hpns.withColumn(\"Freedom to make life choices\", col(\"Freedom to make life choices\").cast(\"float\"))\n",
    "df_hpns = df_hpns.withColumn(\"Generosity\", col(\"Generosity\").cast(\"float\"))\n",
    "df_hpns = df_hpns.withColumn(\"Perceptions of corruption\", col(\"Perceptions of corruption\").cast(\"float\"))\n",
    "df_hpns = df_hpns.withColumn(\"Positive affect\", col(\"Positive affect\").cast(\"float\"))\n",
    "df_hpns = df_hpns.withColumn(\"Negative affect\", col(\"Negative affect\").cast(\"float\"))\n",
    "\n",
    "df_21 = df_21.withColumn(\"Ladder score\", col(\"Ladder score\").cast(\"float\"))\n",
    "df_21 = df_21.withColumn(\"Standard error of ladder score\", col(\"Standard error of ladder score\").cast(\"float\"))\n",
    "df_21 = df_21.withColumn(\"upperwhisker\", col(\"upperwhisker\").cast(\"float\"))\n",
    "df_21 = df_21.withColumn(\"lowerwhisker\", col(\"lowerwhisker\").cast(\"float\"))\n",
    "df_21 = df_21.withColumn(\"Logged GDP per capita\", col(\"Logged GDP per capita\").cast(\"float\"))\n",
    "df_21 = df_21.withColumn(\"Social support\", col(\"Social support\").cast(\"float\"))\n",
    "df_21 = df_21.withColumn(\"Healthy life expectancy\", col(\"Healthy life expectancy\").cast(\"float\"))\n",
    "df_21 = df_21.withColumn(\"Freedom to make life choices\", col(\"Freedom to make life choices\").cast(\"float\"))\n",
    "df_21 = df_21.withColumn(\"Generosity\", col(\"Generosity\").cast(\"float\"))\n",
    "df_21 = df_21.withColumn(\"Perceptions of corruption\", col(\"Perceptions of corruption\").cast(\"float\"))\n",
    "df_21 = df_21.withColumn(\"Ladder score in Dystopia\", col(\"Ladder score in Dystopia\").cast(\"float\"))\n",
    "df_21 = df_21.withColumn(\"Explained by: Log GDP per capita\", col(\"Explained by: Log GDP per capita\").cast(\"float\"))\n",
    "df_21 = df_21.withColumn(\"Explained by: Social support\", col(\"Explained by: Social support\").cast(\"float\"))\n",
    "df_21 = df_21.withColumn(\"Explained by: Healthy life expectancy\", col(\"Explained by: Healthy life expectancy\").cast(\"float\"))\n",
    "df_21 = df_21.withColumn(\"Explained by: Freedom to make life choices\", col(\"Explained by: Freedom to make life choices\").cast(\"float\"))\n",
    "df_21 = df_21.withColumn(\"Explained by: Generosity\", col(\"Explained by: Generosity\").cast(\"float\"))\n",
    "df_21 = df_21.withColumn(\"Explained by: Perceptions of corruption\", col(\"Explained by: Perceptions of corruption\").cast(\"float\"))\n",
    "df_21 = df_21.withColumn(\"Dystopia + residual\", col(\"Dystopia + residual\").cast(\"float\"))\n",
    "\n",
    "df_hpns.show()\n",
    "df_hpns.printSchema()\n",
    "df_21.show()\n",
    "df_21.printSchema()\n",
    "\n"
   ]
  },
  {
   "cell_type": "code",
   "execution_count": 129,
   "id": "4cef868f",
   "metadata": {},
   "outputs": [
    {
     "name": "stdout",
     "output_type": "stream",
     "text": [
      "+------------+\n",
      "|Country name|\n",
      "+------------+\n",
      "|     Finland|\n",
      "+------------+\n",
      "\n"
     ]
    }
   ],
   "source": [
    "# #1 País más feliz del 2021\n",
    "\n",
    "row_maxFeliz = df_21.filter(df_21[\"Ladder score\"] == df_21.agg({\"Ladder score\":\"max\"}).collect()[0][0])\n",
    "countryFeliz = row_maxFeliz.select(\"Country name\")\n",
    "\n",
    "countryFeliz.show()"
   ]
  },
  {
   "cell_type": "code",
   "execution_count": 130,
   "id": "b0a8ed46",
   "metadata": {},
   "outputs": [
    {
     "name": "stdout",
     "output_type": "stream",
     "text": [
      "+--------------------+--------------------+------------+\n",
      "|        Country name|  Regional indicator|Ladder score|\n",
      "+--------------------+--------------------+------------+\n",
      "|             Finland|      Western Europe|       7.842|\n",
      "|         New Zealand|North America and...|       7.277|\n",
      "|              Israel|Middle East and N...|       7.157|\n",
      "|          Costa Rica|Latin America and...|       7.069|\n",
      "|      Czech Republic|Central and Easte...|       6.965|\n",
      "|Taiwan Province o...|           East Asia|       6.584|\n",
      "|           Singapore|      Southeast Asia|       6.377|\n",
      "|          Uzbekistan|Commonwealth of I...|       6.179|\n",
      "|           Mauritius|  Sub-Saharan Africa|       6.049|\n",
      "|               Nepal|          South Asia|       5.269|\n",
      "+--------------------+--------------------+------------+\n",
      "\n"
     ]
    }
   ],
   "source": [
    "# #2 País más feliz por continente\n",
    "\n",
    "max_Region = df_21.groupBy(\"Regional indicator\").agg(max(\"Ladder score\")).alias(\"maxHappy\")\n",
    "union = max_Region.join(df_21, max_Region[\"max(Ladder score)\"] == df_21[\"Ladder score\"])\n",
    "union_reduc = union.select(\"Country name\", \"Ladder score\")\n",
    "\n",
    "final = max_Region.join(union_reduc, max_Region[\"max(Ladder score)\"] == union_reduc[\"Ladder score\"])\n",
    "\n",
    "final.select(\"Country name\", \"Regional indicator\", \"Ladder score\").show()\n"
   ]
  },
  {
   "cell_type": "code",
   "execution_count": 194,
   "id": "50f51472",
   "metadata": {},
   "outputs": [
    {
     "name": "stdout",
     "output_type": "stream",
     "text": [
      "El país que más veces ha ocupado el primer lugar es: Denmark\n"
     ]
    }
   ],
   "source": [
    "# #3 País que más veces ocupó el primer lugar todos los años                     \n",
    "\n",
    "max_anio = df_hpns.groupBy(\"year\").agg(max(\"Life Ladder\").alias(\"max_ladder\"))\n",
    "\n",
    "max_ladder_pais = df_hpns.alias('df').join(max_anio.alias('ma'), (col(\"df.year\") == col(\"ma.year\")) & (col('df.Life Ladder') == col('ma.max_ladder')))\n",
    "\n",
    "max_ladder_count = max_ladder_pais.groupBy(\"Country name\").count()\n",
    "\n",
    "winner = max_ladder_count.orderBy(col(\"count\").desc()).first()[0]\n",
    "\n",
    "print(\"El país que más veces ha ocupado el primer lugar es: \" + winner)\n",
    "\n"
   ]
  },
  {
   "cell_type": "code",
   "execution_count": 140,
   "id": "e29cc369",
   "metadata": {},
   "outputs": [
    {
     "name": "stdout",
     "output_type": "stream",
     "text": [
      "+------------+-------------------+----+------------------+\n",
      "|Country name|Ranking Life Ladder|year|Log GDP per capita|\n",
      "+------------+-------------------+----+------------------+\n",
      "|     Ireland|                 13|2020|            11.323|\n",
      "+------------+-------------------+----+------------------+\n",
      "\n"
     ]
    }
   ],
   "source": [
    "# #4 Puesto de felicidad del país con mayor GDP del 2020\n",
    "\n",
    "# Filtramos el año 2020\n",
    "\n",
    "df_2020 = df_hpns.filter(df_hpns[\"year\"] == \"2020\")\n",
    "df_2020_ord = df_2020.orderBy(desc(\"Life Ladder\"))\n",
    "\n",
    "df_2020_ord = df_2020_ord.withColumn(\"Ranking Life Ladder\", monotonically_increasing_id() + 1)\n",
    "max_value = df_2020_ord.agg(max(col(\"Log GDP per capita\")))\n",
    "\n",
    "df_2020_ord.select(\"Country name\", \"Ranking Life Ladder\", \"year\", \"Log GDP per capita\").filter(col(\"Log GDP per capita\") == max_value.collect()[0][0]).show()\n"
   ]
  },
  {
   "cell_type": "code",
   "execution_count": 149,
   "id": "960e3870",
   "metadata": {},
   "outputs": [
    {
     "name": "stdout",
     "output_type": "stream",
     "text": [
      "En 2020 el GDP promedio era: 9.751329579136588, mientras que en 2021 fue: 9.432208032416018. Por tanto, hubo una disminución porcentual en el GDP del 3.383317518271791%\n"
     ]
    }
   ],
   "source": [
    "# #5 En qué porcentaje ha variado a nivel mundial el GDP promedio del 2020 al 2021. ¿Aumentó o disminuyó?\n",
    "\n",
    "df_2020 = df_hpns.filter(df_hpns[\"year\"] == \"2020\")\n",
    "\n",
    "prom_2020 = df_2020.select(mean(\"Log GDP per capita\")).collect()[0][0]\n",
    "\n",
    "prom_2021 = df_21.select(mean(\"Logged GDP per capita\")).collect()[0][0]\n",
    "\n",
    "perc_var = ((prom_2020 - prom_2021)/prom_2021)*100\n",
    "\n",
    "print(\"En 2020 el GDP promedio era: \" + str(prom_2020) + \", mientras que en 2021 fue: \" + str(prom_2021) \n",
    "      + \". Por tanto, hubo una disminución porcentual en el GDP del \" + str(perc_var) + \"%\")"
   ]
  },
  {
   "cell_type": "code",
   "execution_count": 169,
   "id": "e1bce1ab",
   "metadata": {},
   "outputs": [
    {
     "name": "stdout",
     "output_type": "stream",
     "text": [
      "El país con mayor esperanza de vida actualmente es Singapore y en el 2012 su esperanza de vida era de 77.0999984741211 años\n"
     ]
    }
   ],
   "source": [
    "# #6 País con máyor expectativa de vida actual y su valor en 2019\n",
    "\n",
    "max_value = df_21.agg(max(col(\"Healthy life expectancy\")))\n",
    "pais_max_vida = df_21.select(\"Country name\").filter(col(\"Healthy life expectancy\") == max_value.collect()[0][0])\n",
    "\n",
    "exp_19 = df_hpns.select(\"Healthy life expectancy at birth\").filter((col(\"Country name\") == pais_max_vida.collect()[0][0]) & (col(\"year\") == \"2019\"))\n",
    "\n",
    "print(\"El país con mayor esperanza de vida actualmente es \" + str(pais_max_vida.collect()[0][0]) \n",
    "      + \" y en el 2012 su esperanza de vida era de \" + str(exp_19.collect()[0][0]) + \" años\")"
   ]
  },
  {
   "cell_type": "code",
   "execution_count": null,
   "id": "15019655",
   "metadata": {},
   "outputs": [],
   "source": []
  }
 ],
 "metadata": {
  "kernelspec": {
   "display_name": "Python 3 (ipykernel)",
   "language": "python",
   "name": "python3"
  },
  "language_info": {
   "codemirror_mode": {
    "name": "ipython",
    "version": 3
   },
   "file_extension": ".py",
   "mimetype": "text/x-python",
   "name": "python",
   "nbconvert_exporter": "python",
   "pygments_lexer": "ipython3",
   "version": "3.10.9"
  }
 },
 "nbformat": 4,
 "nbformat_minor": 5
}
